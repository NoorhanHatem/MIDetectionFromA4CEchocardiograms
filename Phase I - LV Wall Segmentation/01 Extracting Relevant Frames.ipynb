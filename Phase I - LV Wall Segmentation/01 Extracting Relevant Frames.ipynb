{
 "cells": [
  {
   "cell_type": "code",
   "execution_count": 1,
   "id": "4c6b7eb6",
   "metadata": {},
   "outputs": [],
   "source": [
    "import os\n",
    "import cv2\n",
    "import pandas as pd\n",
    "\n",
    "# Loading the data from the A4C excel file provided in HMC-QU dataset\n",
    "file_path = r\"C:\\Users\\noorh\\OneDrive\\Desktop\\Grad Project\\HMC Dataset\\A4C.xlsx\"\n",
    "df = pd.read_excel(file_path)\n",
    "\n",
    "# Path to the folder containing HMC-QU A4C videos\n",
    "videos_folder = r\"C:\\Users\\noorh\\OneDrive\\Desktop\\Grad Project\\HMC Dataset\\HMC-QU\\A4C\"\n",
    "\n",
    "# Store extracted frames here\n",
    "frame_folder = r\"C:\\Users\\noorh\\OneDrive\\Desktop\\Grad Project\\HMC Dataset\\Extracted Frames\"\n",
    "\n",
    "# Filter the rows (video names) that have ground truth segmentation masks\n",
    "df_filtered = df[df['LV Wall Ground-truth Segmentation Masks'] == 'ü']"
   ]
  },
  {
   "cell_type": "code",
   "execution_count": 3,
   "id": "ee884211",
   "metadata": {},
   "outputs": [
    {
     "name": "stdout",
     "output_type": "stream",
     "text": [
      "Frames saved successfully.\n"
     ]
    }
   ],
   "source": [
    "def save_frames(video_path, output_folder, frames):\n",
    "    cap = cv2.VideoCapture(video_path)\n",
    "    \n",
    "    if not cap.isOpened():\n",
    "        print(f\"Error opening video file {video_path}\")\n",
    "        return\n",
    "    \n",
    "    os.makedirs(output_folder, exist_ok=True) \n",
    "    \n",
    "    frame_index = 0\n",
    "    saved_frame_index = 1  \n",
    "    while True:\n",
    "        ret, frame = cap.read()\n",
    "        if not ret:\n",
    "            break\n",
    "        \n",
    "        if frame_index in frames:\n",
    "            frame_filename = os.path.join(output_folder, f\"frame_{saved_frame_index}.png\")\n",
    "            cv2.imwrite(frame_filename, frame)\n",
    "            saved_frame_index += 1  \n",
    "        \n",
    "        frame_index += 1\n",
    "    \n",
    "    cap.release()\n",
    "\n",
    "# Extract the revelant frames for each video and save them in distinct folders\n",
    "# Relevant frames are the frames for which there are segmentation masks. The first frame no. is in 'Reference Frame'\n",
    "# and the last frame no. is in 'End of Cycle'\n",
    "for index, row in df_filtered.iterrows():\n",
    "    video_name = row['ECHO']\n",
    "    start_frame = row['Reference Frame']\n",
    "    end_frame = row['End of Cycle']\n",
    "    frames_to_save = list(range(start_frame - 1, end_frame))\n",
    "    \n",
    "    video_path = os.path.join(videos_folder, f\"{video_name}.avi\")\n",
    "    output_folder = os.path.join(frame_folder, video_name)\n",
    "    \n",
    "    save_frames(video_path, output_folder, frames_to_save)\n",
    "\n",
    "print(\"Frames saved successfully.\")\n"
   ]
  },
  {
   "cell_type": "code",
   "execution_count": null,
   "id": "93a6334a",
   "metadata": {},
   "outputs": [],
   "source": []
  }
 ],
 "metadata": {
  "kernelspec": {
   "display_name": "Python 3 (ipykernel)",
   "language": "python",
   "name": "python3"
  },
  "language_info": {
   "codemirror_mode": {
    "name": "ipython",
    "version": 3
   },
   "file_extension": ".py",
   "mimetype": "text/x-python",
   "name": "python",
   "nbconvert_exporter": "python",
   "pygments_lexer": "ipython3",
   "version": "3.9.13"
  }
 },
 "nbformat": 4,
 "nbformat_minor": 5
}
